{
 "cells": [
  {
   "cell_type": "code",
   "execution_count": null,
   "metadata": {},
   "outputs": [],
   "source": [
    "import os\n",
    "import ast"
   ]
  },
  {
   "cell_type": "code",
   "execution_count": null,
   "metadata": {},
   "outputs": [],
   "source": [
    "good_gold_set = {}\n",
    "for filename in os.listdir('../data/eval/cleaned_set/'):\n",
    "    with open('../data/eval/cleaned_set/'+filename, 'r') as fin:\n",
    "        setname = filename.split('.')[0]\n",
    "        data = fin.readlines()\n",
    "        ents = []\n",
    "        for line in data:\n",
    "            ents.append(line.strip('\\n'))\n",
    "        # eids = [ename2eid[x] for x in ents]\n",
    "        good_gold_set[setname] = ents"
   ]
  },
  {
   "cell_type": "code",
   "execution_count": null,
   "metadata": {},
   "outputs": [],
   "source": [
    "good_gold_set['days']"
   ]
  },
  {
   "cell_type": "code",
   "execution_count": null,
   "metadata": {},
   "outputs": [],
   "source": [
    "for filename in os.listdir('../data/eval/results/'):\n",
    "    setname = filename.split('.')[0]\n",
    "    print(\"==================== {} ====================\".format(setname))\n",
    "    candidates = {}\n",
    "    with open('../data/eval/results/{}'.format(filename), 'r') as fin:\n",
    "        data = fin.readlines()\n",
    "        tmp = data[:90] + data[92:182] + data[184:274] + data[276:366]\n",
    "        cnt = 1\n",
    "        for line in tmp:\n",
    "            if cnt % 3 == 2:\n",
    "                lst = ast.literal_eval(line.strip('output:').strip())\n",
    "                for ent in lst:\n",
    "                    if ent not in good_gold_set[setname]:\n",
    "                        if ent not in candidates:\n",
    "                            candidates[ent] = 1\n",
    "                        else:\n",
    "                            candidates[ent] += 1\n",
    "            cnt += 1\n",
    "    for ent in sorted(candidates, key=candidates.get, reverse=True)[:100]:\n",
    "        print(ent)"
   ]
  },
  {
   "cell_type": "code",
   "execution_count": null,
   "metadata": {},
   "outputs": [],
   "source": []
  }
 ],
 "metadata": {
  "kernelspec": {
   "display_name": "Python 3",
   "language": "python",
   "name": "python3"
  },
  "language_info": {
   "codemirror_mode": {
    "name": "ipython",
    "version": 3
   },
   "file_extension": ".py",
   "mimetype": "text/x-python",
   "name": "python",
   "nbconvert_exporter": "python",
   "pygments_lexer": "ipython3",
   "version": "3.6.6"
  }
 },
 "nbformat": 4,
 "nbformat_minor": 2
}
