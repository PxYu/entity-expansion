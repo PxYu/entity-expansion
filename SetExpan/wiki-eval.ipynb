{
 "cells": [
  {
   "cell_type": "code",
   "execution_count": 1,
   "metadata": {},
   "outputs": [],
   "source": [
    "import pickle\n",
    "import os\n",
    "import util\n",
    "import set_expan\n",
    "import time\n",
    "import os\n",
    "import json\n",
    "import random\n",
    "import copy\n",
    "import sys"
   ]
  },
  {
   "cell_type": "code",
   "execution_count": 2,
   "metadata": {},
   "outputs": [],
   "source": [
    "def ap(lst, truth):\n",
    "    rel = 0\n",
    "    ap = 0\n",
    "    for idx in range(1, len(lst)+1):\n",
    "        if lst[idx-1] in truth:\n",
    "            rel += 1\n",
    "            ap += rel/idx\n",
    "    return ap/len(truth)"
   ]
  },
  {
   "cell_type": "code",
   "execution_count": 8,
   "metadata": {},
   "outputs": [
    {
     "name": "stdout",
     "output_type": "stream",
     "text": [
      "dataset:wiki\n",
      "loading eid and name maps\n",
      "loading eid and skipgram maps\n",
      "loading skipgram strength map\n",
      "loading eid and type maps\n",
      "loading type strength map\n",
      "Finish loading all dataset, using 52.53902721405029 seconds\n"
     ]
    }
   ],
   "source": [
    "FLAGS_USE_TYPE=True\n",
    "cur_dir = os.path.join(os.getcwd())\n",
    "data = \"wiki\"\n",
    "print('dataset:%s' % data)\n",
    "folder = '/../../data/'+data+'/intermediate/'\n",
    "start = time.time()\n",
    "print('loading eid and name maps')\n",
    "eid2ename, ename2eid = util.loadEidToEntityMap(cur_dir + folder+'entity2id.txt') #entity2id.txt\n",
    "print('loading eid and skipgram maps')\n",
    "eid2patterns, pattern2eids = util.loadFeaturesAndEidMap(cur_dir + folder+'reduced_eidSkipgramCounts.txt') #eidSkipgramCount.txt\n",
    "print('loading skipgram strength map')\n",
    "eidAndPattern2strength = util.loadWeightByEidAndFeatureMap(cur_dir + folder+'setexpan_eidSkipgram2TFIDFStrength.txt', idx=-1) #(eid, feature, weight) file\n",
    "print('loading eid and type maps')\n",
    "eid2types, type2eids = util.loadFeaturesAndEidMap(cur_dir + folder+'eidTypeCounts.txt') #eidTypeCount.txt\n",
    "print('loading type strength map')\n",
    "eidAndType2strength = util.loadWeightByEidAndFeatureMap(cur_dir + folder+'eidType2TFIDFStrength.txt', idx=-1) #(eid, feature, weight) file\n",
    "end = time.time()\n",
    "print(\"Finish loading all dataset, using %s seconds\" % (end-start))"
   ]
  },
  {
   "cell_type": "code",
   "execution_count": 4,
   "metadata": {},
   "outputs": [],
   "source": [
    "good_gold_set = {}\n",
    "for filename in os.listdir('../../data/eval/cleaned_set/'):\n",
    "    with open('../../data/eval/cleaned_set/'+filename, 'r') as fin:\n",
    "        setname = filename.split('.')[0]\n",
    "        data = fin.readlines()\n",
    "        ents = []\n",
    "        for line in data:\n",
    "            ents.append(line.strip('\\n'))\n",
    "        eids = [ename2eid[x] for x in ents]\n",
    "        good_gold_set[setname] = eids"
   ]
  },
  {
   "cell_type": "code",
   "execution_count": 12,
   "metadata": {},
   "outputs": [
    {
     "name": "stdout",
     "output_type": "stream",
     "text": [
      "running days [2 seeds] iteration 1\n",
      "input: ['sunday', 'thursday']\n",
      "\n",
      "output: ['saturday', 'friday', 'monday', 'wednesday', 'tuesday', '24', '1', '4', '7', '9', '8', '21', '11', '13', 'christma', 'york', 'weekday', 'month', 'magazine', 'board', 'japan', 'earth', 'christma_eve', 'bbc', 'thanksgiving', 'north_america', 'birthday', 'year', 'campus', 'night', 'date', 'leap_year', 'paris', 'super_tuesday', 'ballot', 'communication', 'palm_sunday', 'halloween', 'game', 'york_city', 'german', 'wife', 'antique', 'young_india', 'news', 'season', 'mother', 'tokyo', 'state', 'easter_sunday', 'australia']\n",
      "\n",
      "----------------------------------------\n",
      "\n",
      "running days [2 seeds] iteration 2\n",
      "input: ['tuesday', 'saturday']\n",
      "\n",
      "output: ['sunday', 'friday', 'monday', 'thursday', 'wednesday', '1', '24', '4', '7', '9', '21', '8', '11', '13', 'christma', 'york', 'weekday', 'month', 'japan', 'magazine', 'game', 'earth', 'year', 'christma_eve', 'north_america', 'birthday', 'season', 'date', 'ballot', 'night', 'leap_year', 'paris', 'wife', 'super_tuesday', 'communication', 'palm_sunday', 'york_city', 'german', 'thanksgiving', 'mother', 'state', 'halloween', 'tokyo', 'australia', 'antique', 'news', 'young_india', 'easter_sunday', 'guardian', 'good_friday', 'time', 'campus']\n",
      "\n",
      "----------------------------------------\n",
      "\n",
      "[2 seeds]: MAP: 1.0, avg. time: 23.26 secs\n",
      "\n",
      "running days [3 seeds] iteration 1\n",
      "input: ['wednesday', 'saturday', 'monday']\n",
      "\n",
      "output: ['sunday', 'friday', 'tuesday', 'thursday', '24', '1', '4', '7', '9', '8', '21', '11', '13', 'christma', 'york', 'month', 'weekday', 'magazine', 'japan', 'earth', 'thanksgiving', 'christma_eve', 'bbc', 'north_america', 'year', 'birthday', 'board', 'night', 'date', 'leap_year', 'paris', 'communication', 'super_tuesday', 'game', 'wife', 'palm_sunday', 'ballot', 'mother', 'tokyo', 'york_city', 'season', 'state', 'halloween', 'german', 'australia', 'antique', 'news', 'young_india', 'easter_sunday']\n",
      "\n",
      "----------------------------------------\n",
      "\n",
      "running days [3 seeds] iteration 2\n",
      "input: ['monday', 'wednesday', 'friday']\n",
      "\n",
      "output: ['saturday', 'sunday', 'thursday', 'tuesday', '1', '24', '4', '9', '7', '8', '21', '11', '13', 'christma', 'york', 'month', 'weekday', 'magazine', 'japan', 'earth', 'board', 'christma_eve', 'year', 'birthday', 'date', 'north_america', 'game', 'season', 'leap_year', 'wife', 'night', 'ballot', 'super_tuesday', 'palm_sunday', 'mother', 'paris', 'communication', 'tokyo', 'halloween', 'thanksgiving', 'york_city', 'german', 'antique', 'easter_sunday', 'state', 'young_india']\n",
      "\n",
      "----------------------------------------\n",
      "\n",
      "[3 seeds]: MAP: 1.0, avg. time: 18.31 secs\n",
      "\n",
      "running animals [2 seeds] iteration 1\n",
      "input: ['chimpanzee', 'zebra']\n",
      "\n",
      "output: ['elephant', 'lion', 'murder', 'tiger', 'chimp', 'camel', 'horse', 'god', 'cattle', 'dog', 'sheep', 'rodent', 'pig', 'goat', 'cow', 'deer', 'vampire', 'chicken', 'cat', 'human', 'rabbit', 'elf', 'rat', 'animal', 'monkey', 'bird', 'mouse', 'livestock', 'angel', 'bear', 'dinosaur', 'fox', 'buffalo', 'snake', 'mutant', 'donkey']\n",
      "\n",
      "----------------------------------------\n",
      "\n",
      "running animals [2 seeds] iteration 2\n",
      "input: ['rat', 'hamster']\n",
      "\n",
      "output: ['human', 'road', 'sport', 'rabbit', 'mouse', 'cat', 'animal', 'bird', 'dog', 'turbine', 'steering', 'pig', 'plant', 'horse', 'monkey', 'right', 'cattle', 'goat', 'sheep', 'color', 'cow', 'chicken', 'dharma', 'fish', 'deer', 'wii', 'poultry', 'camel', 'livestock', 'tilt', 'insect', 'deluxe', 'medicine', 'mammal', 'buddhist', 'tree', 'leather', 'snake', 'water', 'donkey', 'flower', 'buffalo', 'child', 'reptile', 'elephant', 'man', 'oxen', 'lizard', 'momo', 'swine', 'rodent']\n",
      "\n",
      "----------------------------------------\n",
      "\n",
      "[2 seeds]: MAP: 0.20604567731385437, avg. time: 29.93 secs\n",
      "\n",
      "running animals [3 seeds] iteration 1\n",
      "input: ['hamster', 'cheetah', 'bear']\n",
      "\n"
     ]
    },
    {
     "ename": "KeyboardInterrupt",
     "evalue": "",
     "output_type": "error",
     "traceback": [
      "\u001b[0;31m---------------------------------------------------------------------------\u001b[0m",
      "\u001b[0;31mKeyboardInterrupt\u001b[0m                         Traceback (most recent call last)",
      "\u001b[0;32m<ipython-input-12-5d838778c2c8>\u001b[0m in \u001b[0;36m<module>\u001b[0;34m\u001b[0m\n\u001b[1;32m     26\u001b[0m                 \u001b[0meid2ename\u001b[0m\u001b[0;34m=\u001b[0m\u001b[0meid2ename\u001b[0m\u001b[0;34m,\u001b[0m\u001b[0;34m\u001b[0m\u001b[0m\n\u001b[1;32m     27\u001b[0m                 \u001b[0mFLAGS_VERBOSE\u001b[0m\u001b[0;34m=\u001b[0m\u001b[0;32mFalse\u001b[0m\u001b[0;34m,\u001b[0m\u001b[0;34m\u001b[0m\u001b[0m\n\u001b[0;32m---> 28\u001b[0;31m                 \u001b[0mFLAGS_DEBUG\u001b[0m\u001b[0;34m=\u001b[0m\u001b[0;32mFalse\u001b[0m\u001b[0;34m\u001b[0m\u001b[0m\n\u001b[0m\u001b[1;32m     29\u001b[0m             )\n\u001b[1;32m     30\u001b[0m             \u001b[0manswers\u001b[0m \u001b[0;34m=\u001b[0m \u001b[0;34m[\u001b[0m\u001b[0;34m]\u001b[0m\u001b[0;34m\u001b[0m\u001b[0m\n",
      "\u001b[0;32m/mnt/scratch/pxyu/SetExpan/src/SetExpan/set_expan.py\u001b[0m in \u001b[0;36msetExpan\u001b[0;34m(seedEidsWithConfidence, negativeSeedEids, eid2patterns, pattern2eids, eidAndPattern2strength, eid2types, type2eids, eidAndType2strength, eid2ename, FLAGS_VERBOSE, FLAGS_DEBUG)\u001b[0m\n\u001b[1;32m    174\u001b[0m         \u001b[0mcombinedSgSimByCandidateEid\u001b[0m\u001b[0;34m[\u001b[0m\u001b[0meid\u001b[0m\u001b[0;34m]\u001b[0m \u001b[0;34m=\u001b[0m \u001b[0;36m0.0\u001b[0m\u001b[0;34m\u001b[0m\u001b[0m\n\u001b[1;32m    175\u001b[0m         \u001b[0;32mfor\u001b[0m \u001b[0mseed\u001b[0m \u001b[0;32min\u001b[0m \u001b[0mseedEids\u001b[0m\u001b[0;34m:\u001b[0m\u001b[0;34m\u001b[0m\u001b[0m\n\u001b[0;32m--> 176\u001b[0;31m           \u001b[0mcombinedSgSimByCandidateEid\u001b[0m\u001b[0;34m[\u001b[0m\u001b[0meid\u001b[0m\u001b[0;34m]\u001b[0m \u001b[0;34m+=\u001b[0m \u001b[0mgetFeatureSim\u001b[0m\u001b[0;34m(\u001b[0m\u001b[0meid\u001b[0m\u001b[0;34m,\u001b[0m \u001b[0mseed\u001b[0m\u001b[0;34m,\u001b[0m \u001b[0meidAndPattern2strength\u001b[0m\u001b[0;34m,\u001b[0m \u001b[0msampledCoreSkipgrams\u001b[0m\u001b[0;34m)\u001b[0m\u001b[0;34m\u001b[0m\u001b[0m\n\u001b[0m\u001b[1;32m    177\u001b[0m \u001b[0;34m\u001b[0m\u001b[0m\n\u001b[1;32m    178\u001b[0m       \u001b[0;31m#get top k candidates\u001b[0m\u001b[0;34m\u001b[0m\u001b[0;34m\u001b[0m\u001b[0m\n",
      "\u001b[0;32m/mnt/scratch/pxyu/SetExpan/src/SetExpan/set_expan.py\u001b[0m in \u001b[0;36mgetFeatureSim\u001b[0;34m(eid, seed, weightByEidAndFeatureMap, features)\u001b[0m\n\u001b[1;32m     70\u001b[0m     \u001b[0;32melse\u001b[0m\u001b[0;34m:\u001b[0m\u001b[0;34m\u001b[0m\u001b[0m\n\u001b[1;32m     71\u001b[0m       \u001b[0mweight_eid\u001b[0m \u001b[0;34m=\u001b[0m \u001b[0;36m0.0\u001b[0m\u001b[0;34m\u001b[0m\u001b[0m\n\u001b[0;32m---> 72\u001b[0;31m     \u001b[0;32mif\u001b[0m \u001b[0;34m(\u001b[0m\u001b[0mseed\u001b[0m\u001b[0;34m,\u001b[0m \u001b[0mf\u001b[0m\u001b[0;34m)\u001b[0m \u001b[0;32min\u001b[0m \u001b[0mweightByEidAndFeatureMap\u001b[0m\u001b[0;34m:\u001b[0m\u001b[0;34m\u001b[0m\u001b[0m\n\u001b[0m\u001b[1;32m     73\u001b[0m       \u001b[0mweight_seed\u001b[0m \u001b[0;34m=\u001b[0m \u001b[0mweightByEidAndFeatureMap\u001b[0m\u001b[0;34m[\u001b[0m\u001b[0;34m(\u001b[0m\u001b[0mseed\u001b[0m\u001b[0;34m,\u001b[0m \u001b[0mf\u001b[0m\u001b[0;34m)\u001b[0m\u001b[0;34m]\u001b[0m\u001b[0;34m\u001b[0m\u001b[0m\n\u001b[1;32m     74\u001b[0m     \u001b[0;32melse\u001b[0m\u001b[0;34m:\u001b[0m\u001b[0;34m\u001b[0m\u001b[0m\n",
      "\u001b[0;31mKeyboardInterrupt\u001b[0m: "
     ]
    }
   ],
   "source": [
    "## Start set expansion\n",
    "for st in good_gold_set:\n",
    "    entities = good_gold_set[st]\n",
    "    ap2 = []\n",
    "    for numseeds in range(2,4):\n",
    "        start = time.time()\n",
    "        ap1 = []\n",
    "        for idx in range(1, 3):\n",
    "            print(\"running {} [{} seeds] iteration {}\".format(st, numseeds, idx))\n",
    "            samples = random.sample(entities, numseeds)\n",
    "            entities_to_retrieve = [i for i in entities if i not in samples]\n",
    "            truth = [eid2ename[int(x)] for x in entities_to_retrieve] # names\n",
    "            seedEidsWithConfidence = [(int(ele), 0.0) for ele in samples]\n",
    "            print(\"input: {}\\n\".format(str([eid2ename[int(x)] for x in samples])))\n",
    "\n",
    "            negativeSeedEids = set()\n",
    "            expandedEidsWithConfidence = set_expan.setExpan(\n",
    "                seedEidsWithConfidence=seedEidsWithConfidence,\n",
    "                negativeSeedEids=negativeSeedEids,\n",
    "                eid2patterns=eid2patterns,\n",
    "                pattern2eids=pattern2eids,\n",
    "                eidAndPattern2strength=eidAndPattern2strength,\n",
    "                eid2types=eid2types,\n",
    "                type2eids=type2eids,\n",
    "                eidAndType2strength=eidAndType2strength,\n",
    "                eid2ename=eid2ename,\n",
    "                FLAGS_VERBOSE=False,\n",
    "                FLAGS_DEBUG=False\n",
    "            )\n",
    "            answers = []\n",
    "            for ele in expandedEidsWithConfidence:\n",
    "                # print(\"eid=\", ele[0], \"ename=\", eid2ename[ele[0]])\n",
    "                answers.append(eid2ename[ele[0]])\n",
    "            print(\"output: {}\\n\".format(str(answers)))\n",
    "            print('----------------------------------------\\n')\n",
    "            ap1.append(ap(answers, truth))\n",
    "        end = time.time()\n",
    "        print(\"[{} seeds]: MAP: {}, avg. time: {:.2f} secs\\n\".format(numseeds, sum(ap1)/len(ap1), (end-start)/20))\n",
    "        ap2.append(sum(ap1)/len(ap1))\n"
   ]
  },
  {
   "cell_type": "code",
   "execution_count": 9,
   "metadata": {},
   "outputs": [
    {
     "data": {
      "text/plain": [
       "593252"
      ]
     },
     "execution_count": 9,
     "metadata": {},
     "output_type": "execute_result"
    }
   ],
   "source": [
    "len(eid2ename)"
   ]
  },
  {
   "cell_type": "code",
   "execution_count": null,
   "metadata": {},
   "outputs": [],
   "source": []
  }
 ],
 "metadata": {
  "kernelspec": {
   "display_name": "Python 3",
   "language": "python",
   "name": "python3"
  },
  "language_info": {
   "codemirror_mode": {
    "name": "ipython",
    "version": 3
   },
   "file_extension": ".py",
   "mimetype": "text/x-python",
   "name": "python",
   "nbconvert_exporter": "python",
   "pygments_lexer": "ipython3",
   "version": "3.6.6"
  }
 },
 "nbformat": 4,
 "nbformat_minor": 2
}
